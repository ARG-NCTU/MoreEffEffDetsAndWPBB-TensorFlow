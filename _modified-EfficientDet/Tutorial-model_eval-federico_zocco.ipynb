{
 "cells": [
  {
   "cell_type": "code",
   "execution_count": 1,
   "metadata": {
    "colab": {
     "base_uri": "https://localhost:8080/"
    },
    "id": "xFA7poG-88jK",
    "outputId": "681db5e0-59ab-48d6-a942-4980cb9b23b2"
   },
   "outputs": [
    {
     "name": "stdout",
     "output_type": "stream",
     "text": [
      "Wed Feb 16 15:58:30 2022       \n",
      "+-----------------------------------------------------------------------------+\n",
      "| NVIDIA-SMI 460.32.03    Driver Version: 460.32.03    CUDA Version: 11.2     |\n",
      "|-------------------------------+----------------------+----------------------+\n",
      "| GPU  Name        Persistence-M| Bus-Id        Disp.A | Volatile Uncorr. ECC |\n",
      "| Fan  Temp  Perf  Pwr:Usage/Cap|         Memory-Usage | GPU-Util  Compute M. |\n",
      "|                               |                      |               MIG M. |\n",
      "|===============================+======================+======================|\n",
      "|   0  Tesla T4            Off  | 00000000:00:04.0 Off |                    0 |\n",
      "| N/A   45C    P8    10W /  70W |      0MiB / 15109MiB |      0%      Default |\n",
      "|                               |                      |                  N/A |\n",
      "+-------------------------------+----------------------+----------------------+\n",
      "                                                                               \n",
      "+-----------------------------------------------------------------------------+\n",
      "| Processes:                                                                  |\n",
      "|  GPU   GI   CI        PID   Type   Process name                  GPU Memory |\n",
      "|        ID   ID                                                   Usage      |\n",
      "|=============================================================================|\n",
      "|  No running processes found                                                 |\n",
      "+-----------------------------------------------------------------------------+\n"
     ]
    }
   ],
   "source": [
    "#Print current hardware information (variable in Colab) \n",
    "\n",
    "gpu_info = !nvidia-smi\n",
    "gpu_info = '\\n'.join(gpu_info)\n",
    "if gpu_info.find('failed') >= 0:\n",
    "  print('Not connected to a GPU')\n",
    "else:\n",
    "  print(gpu_info)"
   ]
  },
  {
   "cell_type": "code",
   "execution_count": 2,
   "metadata": {
    "id": "qL1nvR-8QJS6"
   },
   "outputs": [],
   "source": [
    "%%capture\n",
    "#@title\n",
    "import os\n",
    "import sys\n",
    "import tensorflow.compat.v1 as tf"
   ]
  },
  {
   "cell_type": "markdown",
   "metadata": {
    "id": "IspsBhcCp9h6"
   },
   "source": [
    "Read from my Google Drive"
   ]
  },
  {
   "cell_type": "code",
   "execution_count": 3,
   "metadata": {
    "colab": {
     "base_uri": "https://localhost:8080/"
    },
    "id": "jlkN4_368tvu",
    "outputId": "ea505e03-a439-48a3-9969-11c8b551d2c0"
   },
   "outputs": [
    {
     "name": "stdout",
     "output_type": "stream",
     "text": [
      "Mounted at /content/drive\n"
     ]
    }
   ],
   "source": [
    "from google.colab import drive\n",
    "drive.mount('/content/drive')"
   ]
  },
  {
   "cell_type": "markdown",
   "metadata": {
    "id": "NY4ymVII9JJv"
   },
   "source": [
    "Move to \"_modified-EfficientDet\" folder and install requirements"
   ]
  },
  {
   "cell_type": "code",
   "execution_count": 4,
   "metadata": {
    "colab": {
     "base_uri": "https://localhost:8080/"
    },
    "id": "yFJbk-nr8vqS",
    "outputId": "2ecb61ab-90fd-4a4b-b8f5-5ce10098751b"
   },
   "outputs": [
    {
     "name": "stdout",
     "output_type": "stream",
     "text": [
      "Collecting git+https://github.com/cocodataset/cocoapi.git#subdirectory=PythonAPI (from -r requirements.txt (line 14))\n",
      "  Cloning https://github.com/cocodataset/cocoapi.git to /tmp/pip-req-build-s2d7jfxd\n",
      "  Running command git clone -q https://github.com/cocodataset/cocoapi.git /tmp/pip-req-build-s2d7jfxd\n",
      "Collecting lxml>=4.6.1\n",
      "  Downloading lxml-4.7.1-cp37-cp37m-manylinux_2_17_x86_64.manylinux2014_x86_64.manylinux_2_24_x86_64.whl (6.4 MB)\n",
      "\u001b[K     |████████████████████████████████| 6.4 MB 5.1 MB/s \n",
      "\u001b[?25hRequirement already satisfied: absl-py>=0.10.0 in /usr/local/lib/python3.7/dist-packages (from -r requirements.txt (line 2)) (1.0.0)\n",
      "Requirement already satisfied: matplotlib>=3.0.3 in /usr/local/lib/python3.7/dist-packages (from -r requirements.txt (line 3)) (3.2.2)\n",
      "Requirement already satisfied: numpy>=1.19.4 in /usr/local/lib/python3.7/dist-packages (from -r requirements.txt (line 4)) (1.21.5)\n",
      "Requirement already satisfied: Pillow>=6.0.0 in /usr/local/lib/python3.7/dist-packages (from -r requirements.txt (line 5)) (7.1.2)\n",
      "Collecting PyYAML>=5.1\n",
      "  Downloading PyYAML-6.0-cp37-cp37m-manylinux_2_5_x86_64.manylinux1_x86_64.manylinux_2_12_x86_64.manylinux2010_x86_64.whl (596 kB)\n",
      "\u001b[K     |████████████████████████████████| 596 kB 59.8 MB/s \n",
      "\u001b[?25hRequirement already satisfied: six>=1.15.0 in /usr/local/lib/python3.7/dist-packages (from -r requirements.txt (line 7)) (1.15.0)\n",
      "Requirement already satisfied: tensorflow>=2.4.0 in /usr/local/lib/python3.7/dist-packages (from -r requirements.txt (line 8)) (2.8.0)\n",
      "Collecting tensorflow-addons>=0.12\n",
      "  Downloading tensorflow_addons-0.16.1-cp37-cp37m-manylinux_2_12_x86_64.manylinux2010_x86_64.whl (1.1 MB)\n",
      "\u001b[K     |████████████████████████████████| 1.1 MB 55.1 MB/s \n",
      "\u001b[?25hRequirement already satisfied: tensorflow-hub>=0.11 in /usr/local/lib/python3.7/dist-packages (from -r requirements.txt (line 10)) (0.12.0)\n",
      "Collecting neural-structured-learning>=1.3.1\n",
      "  Downloading neural_structured_learning-1.3.1-py2.py3-none-any.whl (120 kB)\n",
      "\u001b[K     |████████████████████████████████| 120 kB 44.7 MB/s \n",
      "\u001b[?25hCollecting tensorflow-model-optimization>=0.5\n",
      "  Downloading tensorflow_model_optimization-0.7.1-py2.py3-none-any.whl (234 kB)\n",
      "\u001b[K     |████████████████████████████████| 234 kB 73.9 MB/s \n",
      "\u001b[?25hRequirement already satisfied: Cython>=0.29.13 in /usr/local/lib/python3.7/dist-packages (from -r requirements.txt (line 13)) (0.29.27)\n",
      "Requirement already satisfied: setuptools>=18.0 in /usr/local/lib/python3.7/dist-packages (from pycocotools==2.0->-r requirements.txt (line 14)) (57.4.0)\n",
      "Requirement already satisfied: kiwisolver>=1.0.1 in /usr/local/lib/python3.7/dist-packages (from matplotlib>=3.0.3->-r requirements.txt (line 3)) (1.3.2)\n",
      "Requirement already satisfied: python-dateutil>=2.1 in /usr/local/lib/python3.7/dist-packages (from matplotlib>=3.0.3->-r requirements.txt (line 3)) (2.8.2)\n",
      "Requirement already satisfied: cycler>=0.10 in /usr/local/lib/python3.7/dist-packages (from matplotlib>=3.0.3->-r requirements.txt (line 3)) (0.11.0)\n",
      "Requirement already satisfied: pyparsing!=2.0.4,!=2.1.2,!=2.1.6,>=2.0.1 in /usr/local/lib/python3.7/dist-packages (from matplotlib>=3.0.3->-r requirements.txt (line 3)) (3.0.7)\n",
      "Requirement already satisfied: wrapt>=1.11.0 in /usr/local/lib/python3.7/dist-packages (from tensorflow>=2.4.0->-r requirements.txt (line 8)) (1.13.3)\n",
      "Requirement already satisfied: protobuf>=3.9.2 in /usr/local/lib/python3.7/dist-packages (from tensorflow>=2.4.0->-r requirements.txt (line 8)) (3.17.3)\n",
      "Requirement already satisfied: opt-einsum>=2.3.2 in /usr/local/lib/python3.7/dist-packages (from tensorflow>=2.4.0->-r requirements.txt (line 8)) (3.3.0)\n",
      "Requirement already satisfied: typing-extensions>=3.6.6 in /usr/local/lib/python3.7/dist-packages (from tensorflow>=2.4.0->-r requirements.txt (line 8)) (3.10.0.2)\n",
      "Requirement already satisfied: google-pasta>=0.1.1 in /usr/local/lib/python3.7/dist-packages (from tensorflow>=2.4.0->-r requirements.txt (line 8)) (0.2.0)\n",
      "Requirement already satisfied: grpcio<2.0,>=1.24.3 in /usr/local/lib/python3.7/dist-packages (from tensorflow>=2.4.0->-r requirements.txt (line 8)) (1.43.0)\n",
      "Requirement already satisfied: astunparse>=1.6.0 in /usr/local/lib/python3.7/dist-packages (from tensorflow>=2.4.0->-r requirements.txt (line 8)) (1.6.3)\n",
      "Requirement already satisfied: keras-preprocessing>=1.1.1 in /usr/local/lib/python3.7/dist-packages (from tensorflow>=2.4.0->-r requirements.txt (line 8)) (1.1.2)\n",
      "Requirement already satisfied: tensorflow-io-gcs-filesystem>=0.23.1 in /usr/local/lib/python3.7/dist-packages (from tensorflow>=2.4.0->-r requirements.txt (line 8)) (0.24.0)\n",
      "Requirement already satisfied: h5py>=2.9.0 in /usr/local/lib/python3.7/dist-packages (from tensorflow>=2.4.0->-r requirements.txt (line 8)) (3.1.0)\n",
      "Requirement already satisfied: tensorboard<2.9,>=2.8 in /usr/local/lib/python3.7/dist-packages (from tensorflow>=2.4.0->-r requirements.txt (line 8)) (2.8.0)\n",
      "Requirement already satisfied: termcolor>=1.1.0 in /usr/local/lib/python3.7/dist-packages (from tensorflow>=2.4.0->-r requirements.txt (line 8)) (1.1.0)\n",
      "Requirement already satisfied: gast>=0.2.1 in /usr/local/lib/python3.7/dist-packages (from tensorflow>=2.4.0->-r requirements.txt (line 8)) (0.5.3)\n",
      "Requirement already satisfied: keras<2.9,>=2.8.0rc0 in /usr/local/lib/python3.7/dist-packages (from tensorflow>=2.4.0->-r requirements.txt (line 8)) (2.8.0)\n",
      "Collecting tf-estimator-nightly==2.8.0.dev2021122109\n",
      "  Downloading tf_estimator_nightly-2.8.0.dev2021122109-py2.py3-none-any.whl (462 kB)\n",
      "\u001b[K     |████████████████████████████████| 462 kB 46.0 MB/s \n",
      "\u001b[?25hRequirement already satisfied: libclang>=9.0.1 in /usr/local/lib/python3.7/dist-packages (from tensorflow>=2.4.0->-r requirements.txt (line 8)) (13.0.0)\n",
      "Requirement already satisfied: flatbuffers>=1.12 in /usr/local/lib/python3.7/dist-packages (from tensorflow>=2.4.0->-r requirements.txt (line 8)) (2.0)\n",
      "Requirement already satisfied: typeguard>=2.7 in /usr/local/lib/python3.7/dist-packages (from tensorflow-addons>=0.12->-r requirements.txt (line 9)) (2.7.1)\n",
      "Requirement already satisfied: attrs in /usr/local/lib/python3.7/dist-packages (from neural-structured-learning>=1.3.1->-r requirements.txt (line 11)) (21.4.0)\n",
      "Requirement already satisfied: scipy in /usr/local/lib/python3.7/dist-packages (from neural-structured-learning>=1.3.1->-r requirements.txt (line 11)) (1.4.1)\n",
      "Requirement already satisfied: dm-tree~=0.1.1 in /usr/local/lib/python3.7/dist-packages (from tensorflow-model-optimization>=0.5->-r requirements.txt (line 12)) (0.1.6)\n",
      "Requirement already satisfied: wheel<1.0,>=0.23.0 in /usr/local/lib/python3.7/dist-packages (from astunparse>=1.6.0->tensorflow>=2.4.0->-r requirements.txt (line 8)) (0.37.1)\n",
      "Requirement already satisfied: cached-property in /usr/local/lib/python3.7/dist-packages (from h5py>=2.9.0->tensorflow>=2.4.0->-r requirements.txt (line 8)) (1.5.2)\n",
      "Requirement already satisfied: google-auth-oauthlib<0.5,>=0.4.1 in /usr/local/lib/python3.7/dist-packages (from tensorboard<2.9,>=2.8->tensorflow>=2.4.0->-r requirements.txt (line 8)) (0.4.6)\n",
      "Requirement already satisfied: google-auth<3,>=1.6.3 in /usr/local/lib/python3.7/dist-packages (from tensorboard<2.9,>=2.8->tensorflow>=2.4.0->-r requirements.txt (line 8)) (1.35.0)\n",
      "Requirement already satisfied: tensorboard-data-server<0.7.0,>=0.6.0 in /usr/local/lib/python3.7/dist-packages (from tensorboard<2.9,>=2.8->tensorflow>=2.4.0->-r requirements.txt (line 8)) (0.6.1)\n",
      "Requirement already satisfied: werkzeug>=0.11.15 in /usr/local/lib/python3.7/dist-packages (from tensorboard<2.9,>=2.8->tensorflow>=2.4.0->-r requirements.txt (line 8)) (1.0.1)\n",
      "Requirement already satisfied: markdown>=2.6.8 in /usr/local/lib/python3.7/dist-packages (from tensorboard<2.9,>=2.8->tensorflow>=2.4.0->-r requirements.txt (line 8)) (3.3.6)\n",
      "Requirement already satisfied: requests<3,>=2.21.0 in /usr/local/lib/python3.7/dist-packages (from tensorboard<2.9,>=2.8->tensorflow>=2.4.0->-r requirements.txt (line 8)) (2.23.0)\n",
      "Requirement already satisfied: tensorboard-plugin-wit>=1.6.0 in /usr/local/lib/python3.7/dist-packages (from tensorboard<2.9,>=2.8->tensorflow>=2.4.0->-r requirements.txt (line 8)) (1.8.1)\n",
      "Requirement already satisfied: cachetools<5.0,>=2.0.0 in /usr/local/lib/python3.7/dist-packages (from google-auth<3,>=1.6.3->tensorboard<2.9,>=2.8->tensorflow>=2.4.0->-r requirements.txt (line 8)) (4.2.4)\n",
      "Requirement already satisfied: rsa<5,>=3.1.4 in /usr/local/lib/python3.7/dist-packages (from google-auth<3,>=1.6.3->tensorboard<2.9,>=2.8->tensorflow>=2.4.0->-r requirements.txt (line 8)) (4.8)\n",
      "Requirement already satisfied: pyasn1-modules>=0.2.1 in /usr/local/lib/python3.7/dist-packages (from google-auth<3,>=1.6.3->tensorboard<2.9,>=2.8->tensorflow>=2.4.0->-r requirements.txt (line 8)) (0.2.8)\n",
      "Requirement already satisfied: requests-oauthlib>=0.7.0 in /usr/local/lib/python3.7/dist-packages (from google-auth-oauthlib<0.5,>=0.4.1->tensorboard<2.9,>=2.8->tensorflow>=2.4.0->-r requirements.txt (line 8)) (1.3.1)\n",
      "Requirement already satisfied: importlib-metadata>=4.4 in /usr/local/lib/python3.7/dist-packages (from markdown>=2.6.8->tensorboard<2.9,>=2.8->tensorflow>=2.4.0->-r requirements.txt (line 8)) (4.11.0)\n",
      "Requirement already satisfied: zipp>=0.5 in /usr/local/lib/python3.7/dist-packages (from importlib-metadata>=4.4->markdown>=2.6.8->tensorboard<2.9,>=2.8->tensorflow>=2.4.0->-r requirements.txt (line 8)) (3.7.0)\n",
      "Requirement already satisfied: pyasn1<0.5.0,>=0.4.6 in /usr/local/lib/python3.7/dist-packages (from pyasn1-modules>=0.2.1->google-auth<3,>=1.6.3->tensorboard<2.9,>=2.8->tensorflow>=2.4.0->-r requirements.txt (line 8)) (0.4.8)\n",
      "Requirement already satisfied: urllib3!=1.25.0,!=1.25.1,<1.26,>=1.21.1 in /usr/local/lib/python3.7/dist-packages (from requests<3,>=2.21.0->tensorboard<2.9,>=2.8->tensorflow>=2.4.0->-r requirements.txt (line 8)) (1.24.3)\n",
      "Requirement already satisfied: certifi>=2017.4.17 in /usr/local/lib/python3.7/dist-packages (from requests<3,>=2.21.0->tensorboard<2.9,>=2.8->tensorflow>=2.4.0->-r requirements.txt (line 8)) (2021.10.8)\n",
      "Requirement already satisfied: chardet<4,>=3.0.2 in /usr/local/lib/python3.7/dist-packages (from requests<3,>=2.21.0->tensorboard<2.9,>=2.8->tensorflow>=2.4.0->-r requirements.txt (line 8)) (3.0.4)\n",
      "Requirement already satisfied: idna<3,>=2.5 in /usr/local/lib/python3.7/dist-packages (from requests<3,>=2.21.0->tensorboard<2.9,>=2.8->tensorflow>=2.4.0->-r requirements.txt (line 8)) (2.10)\n",
      "Requirement already satisfied: oauthlib>=3.0.0 in /usr/local/lib/python3.7/dist-packages (from requests-oauthlib>=0.7.0->google-auth-oauthlib<0.5,>=0.4.1->tensorboard<2.9,>=2.8->tensorflow>=2.4.0->-r requirements.txt (line 8)) (3.2.0)\n",
      "Building wheels for collected packages: pycocotools\n",
      "  Building wheel for pycocotools (setup.py) ... \u001b[?25l\u001b[?25hdone\n",
      "  Created wheel for pycocotools: filename=pycocotools-2.0-cp37-cp37m-linux_x86_64.whl size=264349 sha256=85a012e50449d2284ca425f6bfdda257a65df2f65a1daab189b213f7cef03584\n",
      "  Stored in directory: /tmp/pip-ephem-wheel-cache-_ozk3sr1/wheels/e2/6b/1d/344ac773c7495ea0b85eb228bc66daec7400a143a92d36b7b1\n",
      "Successfully built pycocotools\n",
      "Installing collected packages: tf-estimator-nightly, tensorflow-model-optimization, tensorflow-addons, PyYAML, pycocotools, neural-structured-learning, lxml\n",
      "  Attempting uninstall: PyYAML\n",
      "    Found existing installation: PyYAML 3.13\n",
      "    Uninstalling PyYAML-3.13:\n",
      "      Successfully uninstalled PyYAML-3.13\n",
      "  Attempting uninstall: pycocotools\n",
      "    Found existing installation: pycocotools 2.0.4\n",
      "    Uninstalling pycocotools-2.0.4:\n",
      "      Successfully uninstalled pycocotools-2.0.4\n",
      "  Attempting uninstall: lxml\n",
      "    Found existing installation: lxml 4.2.6\n",
      "    Uninstalling lxml-4.2.6:\n",
      "      Successfully uninstalled lxml-4.2.6\n",
      "Successfully installed PyYAML-6.0 lxml-4.7.1 neural-structured-learning-1.3.1 pycocotools-2.0 tensorflow-addons-0.16.1 tensorflow-model-optimization-0.7.1 tf-estimator-nightly-2.8.0.dev2021122109\n",
      "Collecting git+https://github.com/cocodataset/cocoapi.git#subdirectory=PythonAPI\n",
      "  Cloning https://github.com/cocodataset/cocoapi.git to /tmp/pip-req-build-dlynemln\n",
      "  Running command git clone -q https://github.com/cocodataset/cocoapi.git /tmp/pip-req-build-dlynemln\n",
      "Requirement already satisfied: setuptools>=18.0 in /usr/local/lib/python3.7/dist-packages (from pycocotools==2.0) (57.4.0)\n",
      "Requirement already satisfied: cython>=0.27.3 in /usr/local/lib/python3.7/dist-packages (from pycocotools==2.0) (0.29.27)\n",
      "Requirement already satisfied: matplotlib>=2.1.0 in /usr/local/lib/python3.7/dist-packages (from pycocotools==2.0) (3.2.2)\n",
      "Requirement already satisfied: kiwisolver>=1.0.1 in /usr/local/lib/python3.7/dist-packages (from matplotlib>=2.1.0->pycocotools==2.0) (1.3.2)\n",
      "Requirement already satisfied: numpy>=1.11 in /usr/local/lib/python3.7/dist-packages (from matplotlib>=2.1.0->pycocotools==2.0) (1.21.5)\n",
      "Requirement already satisfied: pyparsing!=2.0.4,!=2.1.2,!=2.1.6,>=2.0.1 in /usr/local/lib/python3.7/dist-packages (from matplotlib>=2.1.0->pycocotools==2.0) (3.0.7)\n",
      "Requirement already satisfied: cycler>=0.10 in /usr/local/lib/python3.7/dist-packages (from matplotlib>=2.1.0->pycocotools==2.0) (0.11.0)\n",
      "Requirement already satisfied: python-dateutil>=2.1 in /usr/local/lib/python3.7/dist-packages (from matplotlib>=2.1.0->pycocotools==2.0) (2.8.2)\n",
      "Requirement already satisfied: six>=1.5 in /usr/local/lib/python3.7/dist-packages (from python-dateutil>=2.1->matplotlib>=2.1.0->pycocotools==2.0) (1.15.0)\n"
     ]
    }
   ],
   "source": [
    "os.chdir('drive/MyDrive/_modified-EfficientDet')\n",
    "sys.path.append('.')\n",
    "!pip install -r requirements.txt\n",
    "!pip install -U 'git+https://github.com/cocodataset/cocoapi.git#subdirectory=PythonAPI'"
   ]
  },
  {
   "cell_type": "code",
   "execution_count": 5,
   "metadata": {
    "colab": {
     "base_uri": "https://localhost:8080/"
    },
    "id": "-A0FGxWW_Xj_",
    "outputId": "8d1145e7-a532-4915-fe5c-8c17be5e57f3"
   },
   "outputs": [
    {
     "name": "stdout",
     "output_type": "stream",
     "text": [
      "--2022-02-16 15:59:12--  https://user-images.githubusercontent.com/11736571/77320690-099af300-6d37-11ea-9d86-24f14dc2d540.png\n",
      "Resolving user-images.githubusercontent.com (user-images.githubusercontent.com)... 185.199.108.133, 185.199.110.133, 185.199.109.133, ...\n",
      "Connecting to user-images.githubusercontent.com (user-images.githubusercontent.com)|185.199.108.133|:443... connected.\n",
      "HTTP request sent, awaiting response... 200 OK\n",
      "Length: 4080549 (3.9M) [image/png]\n",
      "Saving to: ‘img.png’\n",
      "\n",
      "\r",
      "img.png               0%[                    ]       0  --.-KB/s               \r",
      "img.png             100%[===================>]   3.89M  --.-KB/s    in 0.1s    \n",
      "\n",
      "2022-02-16 15:59:12 (39.4 MB/s) - ‘img.png’ saved [4080549/4080549]\n",
      "\n"
     ]
    }
   ],
   "source": [
    "MODEL = 'efficientdet-d0_1-5'  #@param\n",
    "\n",
    "\n",
    "# Prepare image and visualization settings.\n",
    "image_url =  'https://user-images.githubusercontent.com/11736571/77320690-099af300-6d37-11ea-9d86-24f14dc2d540.png'#@param\n",
    "image_name = 'img.png' #@param\n",
    "!wget {image_url} -O img.png\n",
    "import os\n",
    "img_path = os.path.join(os.getcwd(), 'img.png')\n",
    "\n",
    "min_score_thresh = 0.35  #@param\n",
    "max_boxes_to_draw = 200  #@param\n",
    "line_thickness =   2#@param\n",
    "\n",
    "import PIL\n",
    "# Get the largest of height/width and round to 128.\n",
    "image_size = max(PIL.Image.open(img_path).size)"
   ]
  },
  {
   "cell_type": "code",
   "execution_count": 8,
   "metadata": {
    "colab": {
     "base_uri": "https://localhost:8080/"
    },
    "id": "K5UyF8xwKDuL",
    "outputId": "d33460c2-d289-4897-ceba-c697f5343e5a"
   },
   "outputs": [
    {
     "name": "stdout",
     "output_type": "stream",
     "text": [
      "I0216 16:04:35.883972 140491729766272 main.py:228] {'name': 'efficientdet-d0_1-5', 'act_type': 'swish', 'image_size': (512, 512), 'target_size': None, 'input_rand_hflip': True, 'jitter_min': 0.1, 'jitter_max': 2.0, 'autoaugment_policy': None, 'grid_mask': False, 'sample_image': None, 'map_freq': 5, 'num_classes': 3, 'seg_num_classes': 3, 'heads': ['object_detection'], 'skip_crowd_during_training': True, 'label_map': None, 'max_instances_per_image': 100, 'regenerate_source_id': False, 'min_level': 3, 'max_level': 7, 'num_scales': 3, 'aspect_ratios': [1.0, 2.0, 0.5], 'anchor_scale': 4.0, 'is_training_bn': True, 'momentum': 0.9, 'optimizer': 'sgd', 'learning_rate': 0.08, 'lr_warmup_init': 0.008, 'lr_warmup_epoch': 1.0, 'first_lr_drop_epoch': 200.0, 'second_lr_drop_epoch': 250.0, 'poly_lr_power': 0.9, 'clip_gradients_norm': 10.0, 'num_epochs': 300, 'data_format': 'channels_last', 'mean_rgb': [123.675, 116.28, 103.53], 'stddev_rgb': [58.395, 57.120000000000005, 57.375], 'scale_range': False, 'label_smoothing': 0.0, 'alpha': 0.25, 'gamma': 1.5, 'delta': 0.1, 'box_loss_weight': 50.0, 'iou_loss_type': None, 'iou_loss_weight': 1.0, 'weight_decay': 4e-05, 'strategy': None, 'mixed_precision': True, 'loss_scale': None, 'model_optimizations': {}, 'box_class_repeats': 5, 'fpn_cell_repeats': 1, 'fpn_num_filters': 64, 'separable_conv': True, 'apply_bn_for_resampling': True, 'conv_after_downsample': False, 'conv_bn_act_pattern': False, 'drop_remainder': True, 'nms_configs': {'method': 'gaussian', 'iou_thresh': None, 'score_thresh': 0.0, 'sigma': None, 'pyfunc': False, 'max_nms_inputs': 0, 'max_output_size': 100}, 'tflite_max_detections': 100, 'fpn_name': None, 'fpn_weight_method': None, 'fpn_config': None, 'survival_prob': None, 'img_summary_steps': None, 'lr_decay_method': 'cosine', 'moving_average_decay': 0, 'ckpt_var_scope': None, 'skip_mismatch': True, 'backbone_name': 'efficientnet-b0', 'backbone_config': None, 'var_freeze_expr': None, 'use_keras_model': True, 'dataset_type': None, 'positives_momentum': None, 'grad_checkpoint': False, 'verbose': 1, 'save_freq': 'epoch', 'model_name': 'efficientdet-d0_1-5', 'iterations_per_loop': 1000, 'model_dir': 'tmp_model_dir/efficientdet-d0_1-5-scratch-Trash', 'num_shards': 8, 'num_examples_per_epoch': 120000, 'backbone_ckpt': '', 'ckpt': None, 'val_json_file': None, 'testdev_dir': None, 'profile': False, 'mode': 'eval'}\n",
      "INFO:tensorflow:Using config: {'_model_dir': 'tmp_model_dir/efficientdet-d0_1-5-scratch-Trash', '_tf_random_seed': None, '_save_summary_steps': 100, '_save_checkpoints_steps': 1000, '_save_checkpoints_secs': None, '_session_config': allow_soft_placement: true\n",
      ", '_keep_checkpoint_max': 5, '_keep_checkpoint_every_n_hours': 10000, '_log_step_count_steps': 1000, '_train_distribute': None, '_device_fn': None, '_protocol': None, '_eval_distribute': None, '_experimental_distribute': None, '_experimental_max_worker_delay_secs': None, '_session_creation_timeout_secs': 7200, '_checkpoint_save_graph_def': True, '_service': None, '_cluster_spec': ClusterSpec({}), '_task_type': 'worker', '_task_id': 0, '_global_id_in_cluster': 0, '_master': '', '_evaluation_master': '', '_is_chief': True, '_num_ps_replicas': 0, '_num_worker_replicas': 1}\n",
      "I0216 16:04:35.917559 140491729766272 estimator.py:202] Using config: {'_model_dir': 'tmp_model_dir/efficientdet-d0_1-5-scratch-Trash', '_tf_random_seed': None, '_save_summary_steps': 100, '_save_checkpoints_steps': 1000, '_save_checkpoints_secs': None, '_session_config': allow_soft_placement: true\n",
      ", '_keep_checkpoint_max': 5, '_keep_checkpoint_every_n_hours': 10000, '_log_step_count_steps': 1000, '_train_distribute': None, '_device_fn': None, '_protocol': None, '_eval_distribute': None, '_experimental_distribute': None, '_experimental_max_worker_delay_secs': None, '_session_creation_timeout_secs': 7200, '_checkpoint_save_graph_def': True, '_service': None, '_cluster_spec': ClusterSpec({}), '_task_type': 'worker', '_task_id': 0, '_global_id_in_cluster': 0, '_master': '', '_evaluation_master': '', '_is_chief': True, '_num_ps_replicas': 0, '_num_worker_replicas': 1}\n",
      "INFO:tensorflow:Using config: {'_model_dir': 'tmp_model_dir/efficientdet-d0_1-5-scratch-Trash', '_tf_random_seed': None, '_save_summary_steps': 100, '_save_checkpoints_steps': 1000, '_save_checkpoints_secs': None, '_session_config': allow_soft_placement: true\n",
      ", '_keep_checkpoint_max': 5, '_keep_checkpoint_every_n_hours': 10000, '_log_step_count_steps': 1000, '_train_distribute': None, '_device_fn': None, '_protocol': None, '_eval_distribute': None, '_experimental_distribute': None, '_experimental_max_worker_delay_secs': None, '_session_creation_timeout_secs': 7200, '_checkpoint_save_graph_def': True, '_service': None, '_cluster_spec': ClusterSpec({}), '_task_type': 'worker', '_task_id': 0, '_global_id_in_cluster': 0, '_master': '', '_evaluation_master': '', '_is_chief': True, '_num_ps_replicas': 0, '_num_worker_replicas': 1}\n",
      "I0216 16:04:35.918348 140491729766272 estimator.py:202] Using config: {'_model_dir': 'tmp_model_dir/efficientdet-d0_1-5-scratch-Trash', '_tf_random_seed': None, '_save_summary_steps': 100, '_save_checkpoints_steps': 1000, '_save_checkpoints_secs': None, '_session_config': allow_soft_placement: true\n",
      ", '_keep_checkpoint_max': 5, '_keep_checkpoint_every_n_hours': 10000, '_log_step_count_steps': 1000, '_train_distribute': None, '_device_fn': None, '_protocol': None, '_eval_distribute': None, '_experimental_distribute': None, '_experimental_max_worker_delay_secs': None, '_session_creation_timeout_secs': 7200, '_checkpoint_save_graph_def': True, '_service': None, '_cluster_spec': ClusterSpec({}), '_task_type': 'worker', '_task_id': 0, '_global_id_in_cluster': 0, '_master': '', '_evaluation_master': '', '_is_chief': True, '_num_ps_replicas': 0, '_num_worker_replicas': 1}\n",
      "INFO:tensorflow:Waiting for new checkpoint at tmp_model_dir/efficientdet-d0_1-5-scratch-Trash\n",
      "I0216 16:04:35.918742 140491729766272 checkpoint_utils.py:136] Waiting for new checkpoint at tmp_model_dir/efficientdet-d0_1-5-scratch-Trash\n",
      "INFO:tensorflow:Found new checkpoint at tmp_model_dir/efficientdet-d0_1-5-scratch-Trash/model.ckpt-10500\n",
      "I0216 16:04:35.921020 140491729766272 checkpoint_utils.py:145] Found new checkpoint at tmp_model_dir/efficientdet-d0_1-5-scratch-Trash/model.ckpt-10500\n",
      "I0216 16:04:35.921182 140491729766272 main.py:308] Starting to evaluate.\n",
      "INFO:tensorflow:Calling model_fn.\n",
      "I0216 16:04:36.608465 140491729766272 estimator.py:1173] Calling model_fn.\n",
      "I0216 16:04:36.608722 140491729766272 utils.py:600] use mixed precision policy name mixed_float16\n",
      "WARNING:tensorflow:From /content/drive/MyDrive/_modified-EfficientDet/utils.py:601: The name tf.keras.layers.enable_v2_dtype_behavior is deprecated. Please use tf.compat.v1.keras.layers.enable_v2_dtype_behavior instead.\n",
      "\n",
      "W0216 16:04:36.874881 140491729766272 module_wrapper.py:151] From /content/drive/MyDrive/_modified-EfficientDet/utils.py:601: The name tf.keras.layers.enable_v2_dtype_behavior is deprecated. Please use tf.compat.v1.keras.layers.enable_v2_dtype_behavior instead.\n",
      "\n",
      "INFO:tensorflow:Mixed precision compatibility check (mixed_float16): OK\n",
      "Your GPU will likely run quickly with dtype policy mixed_float16 as it has compute capability of at least 7.0. Your GPU: Tesla T4, compute capability 7.5\n",
      "I0216 16:04:36.875956 140491729766272 device_compatibility_check.py:121] Mixed precision compatibility check (mixed_float16): OK\n",
      "Your GPU will likely run quickly with dtype policy mixed_float16 as it has compute capability of at least 7.0. Your GPU: Tesla T4, compute capability 7.5\n",
      "I0216 16:04:36.881193 140491729766272 efficientnet_builder.py:215] global_params= GlobalParams(batch_norm_momentum=0.99, batch_norm_epsilon=0.001, dropout_rate=0.2, data_format='channels_last', num_classes=1000, width_coefficient=1.0, depth_coefficient=1.0, depth_divisor=8, min_depth=None, survival_prob=0.0, relu_fn=functools.partial(<function activation_fn at 0x7fc63da6def0>, act_type='swish'), batch_norm=<class 'utils.BatchNormalization'>, use_se=True, local_pooling=None, condconv_num_experts=None, clip_projection_output=False, blocks_args=['r1_k3_s11_e1_i32_o16_se0.25', 'r2_k3_s22_e6_i16_o24_se0.25', 'r2_k5_s22_e6_i24_o40_se0.25', 'r3_k3_s22_e6_i40_o80_se0.25', 'r3_k5_s11_e6_i80_o112_se0.25', 'r4_k5_s22_e6_i112_o192_se0.25', 'r1_k3_s11_e6_i192_o320_se0.25'], fix_head_stem=None, grad_checkpoint=False)\n",
      "I0216 16:04:37.131696 140491729766272 efficientdet_keras.py:767] fnode 0 : {'feat_level': 6, 'inputs_offsets': [3, 4]}\n",
      "I0216 16:04:37.132582 140491729766272 efficientdet_keras.py:767] fnode 1 : {'feat_level': 5, 'inputs_offsets': [2, 5]}\n",
      "I0216 16:04:37.133574 140491729766272 efficientdet_keras.py:767] fnode 2 : {'feat_level': 4, 'inputs_offsets': [1, 6]}\n",
      "I0216 16:04:37.134881 140491729766272 efficientdet_keras.py:767] fnode 3 : {'feat_level': 3, 'inputs_offsets': [0, 7]}\n",
      "I0216 16:04:37.136961 140491729766272 efficientdet_keras.py:767] fnode 4 : {'feat_level': 4, 'inputs_offsets': [1, 7, 8]}\n",
      "I0216 16:04:37.139289 140491729766272 efficientdet_keras.py:767] fnode 5 : {'feat_level': 5, 'inputs_offsets': [2, 6, 9]}\n",
      "I0216 16:04:37.140580 140491729766272 efficientdet_keras.py:767] fnode 6 : {'feat_level': 6, 'inputs_offsets': [3, 5, 10]}\n",
      "I0216 16:04:37.141480 140491729766272 efficientdet_keras.py:767] fnode 7 : {'feat_level': 7, 'inputs_offsets': [4, 11]}\n",
      "I0216 16:04:37.267848 140491729766272 efficientnet_model.py:735] Built stem stem : (1, 256, 256, 32)\n",
      "I0216 16:04:37.268388 140491729766272 efficientnet_model.py:374] Block blocks_0 input shape: (1, 256, 256, 32)\n",
      "I0216 16:04:37.292462 140491729766272 efficientnet_model.py:393] DWConv shape: (1, 256, 256, 32)\n",
      "I0216 16:04:37.318788 140491729766272 efficientnet_model.py:195] Built SE se : (1, 1, 1, 32)\n",
      "I0216 16:04:37.342880 140491729766272 efficientnet_model.py:414] Project shape: (1, 256, 256, 16)\n",
      "I0216 16:04:37.344001 140491729766272 efficientnet_model.py:374] Block blocks_1 input shape: (1, 256, 256, 16)\n",
      "I0216 16:04:37.373586 140491729766272 efficientnet_model.py:390] Expand shape: (1, 256, 256, 96)\n",
      "I0216 16:04:37.398161 140491729766272 efficientnet_model.py:393] DWConv shape: (1, 128, 128, 96)\n",
      "I0216 16:04:37.424560 140491729766272 efficientnet_model.py:195] Built SE se : (1, 1, 1, 96)\n",
      "I0216 16:04:37.446806 140491729766272 efficientnet_model.py:414] Project shape: (1, 128, 128, 24)\n",
      "I0216 16:04:37.447401 140491729766272 efficientnet_model.py:374] Block blocks_2 input shape: (1, 128, 128, 24)\n",
      "I0216 16:04:37.470947 140491729766272 efficientnet_model.py:390] Expand shape: (1, 128, 128, 144)\n",
      "I0216 16:04:37.495672 140491729766272 efficientnet_model.py:393] DWConv shape: (1, 128, 128, 144)\n",
      "I0216 16:04:37.521939 140491729766272 efficientnet_model.py:195] Built SE se : (1, 1, 1, 144)\n",
      "I0216 16:04:37.543757 140491729766272 efficientnet_model.py:414] Project shape: (1, 128, 128, 24)\n",
      "I0216 16:04:37.544353 140491729766272 efficientnet_model.py:374] Block blocks_3 input shape: (1, 128, 128, 24)\n",
      "I0216 16:04:37.568233 140491729766272 efficientnet_model.py:390] Expand shape: (1, 128, 128, 144)\n",
      "I0216 16:04:37.592521 140491729766272 efficientnet_model.py:393] DWConv shape: (1, 64, 64, 144)\n",
      "I0216 16:04:37.618945 140491729766272 efficientnet_model.py:195] Built SE se : (1, 1, 1, 144)\n",
      "I0216 16:04:37.643822 140491729766272 efficientnet_model.py:414] Project shape: (1, 64, 64, 40)\n",
      "I0216 16:04:37.644671 140491729766272 efficientnet_model.py:374] Block blocks_4 input shape: (1, 64, 64, 40)\n",
      "I0216 16:04:37.669744 140491729766272 efficientnet_model.py:390] Expand shape: (1, 64, 64, 240)\n",
      "I0216 16:04:37.695686 140491729766272 efficientnet_model.py:393] DWConv shape: (1, 64, 64, 240)\n",
      "I0216 16:04:37.728214 140491729766272 efficientnet_model.py:195] Built SE se : (1, 1, 1, 240)\n",
      "I0216 16:04:37.752651 140491729766272 efficientnet_model.py:414] Project shape: (1, 64, 64, 40)\n",
      "I0216 16:04:37.753320 140491729766272 efficientnet_model.py:374] Block blocks_5 input shape: (1, 64, 64, 40)\n",
      "I0216 16:04:37.779831 140491729766272 efficientnet_model.py:390] Expand shape: (1, 64, 64, 240)\n",
      "I0216 16:04:37.806512 140491729766272 efficientnet_model.py:393] DWConv shape: (1, 32, 32, 240)\n",
      "I0216 16:04:37.833263 140491729766272 efficientnet_model.py:195] Built SE se : (1, 1, 1, 240)\n",
      "I0216 16:04:37.856124 140491729766272 efficientnet_model.py:414] Project shape: (1, 32, 32, 80)\n",
      "I0216 16:04:37.856693 140491729766272 efficientnet_model.py:374] Block blocks_6 input shape: (1, 32, 32, 80)\n",
      "I0216 16:04:37.887254 140491729766272 efficientnet_model.py:390] Expand shape: (1, 32, 32, 480)\n",
      "I0216 16:04:37.913522 140491729766272 efficientnet_model.py:393] DWConv shape: (1, 32, 32, 480)\n",
      "I0216 16:04:37.944199 140491729766272 efficientnet_model.py:195] Built SE se : (1, 1, 1, 480)\n",
      "I0216 16:04:37.971275 140491729766272 efficientnet_model.py:414] Project shape: (1, 32, 32, 80)\n",
      "I0216 16:04:37.971868 140491729766272 efficientnet_model.py:374] Block blocks_7 input shape: (1, 32, 32, 80)\n",
      "I0216 16:04:37.998062 140491729766272 efficientnet_model.py:390] Expand shape: (1, 32, 32, 480)\n",
      "I0216 16:04:38.024558 140491729766272 efficientnet_model.py:393] DWConv shape: (1, 32, 32, 480)\n",
      "I0216 16:04:38.052143 140491729766272 efficientnet_model.py:195] Built SE se : (1, 1, 1, 480)\n",
      "I0216 16:04:38.075864 140491729766272 efficientnet_model.py:414] Project shape: (1, 32, 32, 80)\n",
      "I0216 16:04:38.076426 140491729766272 efficientnet_model.py:374] Block blocks_8 input shape: (1, 32, 32, 80)\n",
      "I0216 16:04:38.101024 140491729766272 efficientnet_model.py:390] Expand shape: (1, 32, 32, 480)\n",
      "I0216 16:04:38.126147 140491729766272 efficientnet_model.py:393] DWConv shape: (1, 32, 32, 480)\n",
      "I0216 16:04:38.154690 140491729766272 efficientnet_model.py:195] Built SE se : (1, 1, 1, 480)\n",
      "I0216 16:04:38.176662 140491729766272 efficientnet_model.py:414] Project shape: (1, 32, 32, 112)\n",
      "I0216 16:04:38.177364 140491729766272 efficientnet_model.py:374] Block blocks_9 input shape: (1, 32, 32, 112)\n",
      "I0216 16:04:38.204686 140491729766272 efficientnet_model.py:390] Expand shape: (1, 32, 32, 672)\n",
      "I0216 16:04:38.232609 140491729766272 efficientnet_model.py:393] DWConv shape: (1, 32, 32, 672)\n",
      "I0216 16:04:38.264265 140491729766272 efficientnet_model.py:195] Built SE se : (1, 1, 1, 672)\n",
      "I0216 16:04:38.287361 140491729766272 efficientnet_model.py:414] Project shape: (1, 32, 32, 112)\n",
      "I0216 16:04:38.288021 140491729766272 efficientnet_model.py:374] Block blocks_10 input shape: (1, 32, 32, 112)\n",
      "I0216 16:04:38.313456 140491729766272 efficientnet_model.py:390] Expand shape: (1, 32, 32, 672)\n",
      "I0216 16:04:38.339125 140491729766272 efficientnet_model.py:393] DWConv shape: (1, 32, 32, 672)\n",
      "I0216 16:04:38.368869 140491729766272 efficientnet_model.py:195] Built SE se : (1, 1, 1, 672)\n",
      "I0216 16:04:38.392818 140491729766272 efficientnet_model.py:414] Project shape: (1, 32, 32, 112)\n",
      "I0216 16:04:38.393514 140491729766272 efficientnet_model.py:374] Block blocks_11 input shape: (1, 32, 32, 112)\n",
      "I0216 16:04:38.418978 140491729766272 efficientnet_model.py:390] Expand shape: (1, 32, 32, 672)\n",
      "I0216 16:04:38.445828 140491729766272 efficientnet_model.py:393] DWConv shape: (1, 16, 16, 672)\n",
      "I0216 16:04:38.477430 140491729766272 efficientnet_model.py:195] Built SE se : (1, 1, 1, 672)\n",
      "I0216 16:04:38.504798 140491729766272 efficientnet_model.py:414] Project shape: (1, 16, 16, 192)\n",
      "I0216 16:04:38.505578 140491729766272 efficientnet_model.py:374] Block blocks_12 input shape: (1, 16, 16, 192)\n",
      "I0216 16:04:38.537724 140491729766272 efficientnet_model.py:390] Expand shape: (1, 16, 16, 1152)\n",
      "I0216 16:04:38.574627 140491729766272 efficientnet_model.py:393] DWConv shape: (1, 16, 16, 1152)\n",
      "I0216 16:04:38.607731 140491729766272 efficientnet_model.py:195] Built SE se : (1, 1, 1, 1152)\n",
      "I0216 16:04:38.632519 140491729766272 efficientnet_model.py:414] Project shape: (1, 16, 16, 192)\n",
      "I0216 16:04:38.633195 140491729766272 efficientnet_model.py:374] Block blocks_13 input shape: (1, 16, 16, 192)\n",
      "I0216 16:04:38.663623 140491729766272 efficientnet_model.py:390] Expand shape: (1, 16, 16, 1152)\n",
      "I0216 16:04:38.694881 140491729766272 efficientnet_model.py:393] DWConv shape: (1, 16, 16, 1152)\n",
      "I0216 16:04:38.727047 140491729766272 efficientnet_model.py:195] Built SE se : (1, 1, 1, 1152)\n",
      "I0216 16:04:38.751753 140491729766272 efficientnet_model.py:414] Project shape: (1, 16, 16, 192)\n",
      "I0216 16:04:38.752415 140491729766272 efficientnet_model.py:374] Block blocks_14 input shape: (1, 16, 16, 192)\n",
      "I0216 16:04:38.784215 140491729766272 efficientnet_model.py:390] Expand shape: (1, 16, 16, 1152)\n",
      "I0216 16:04:38.817587 140491729766272 efficientnet_model.py:393] DWConv shape: (1, 16, 16, 1152)\n",
      "I0216 16:04:38.845717 140491729766272 efficientnet_model.py:195] Built SE se : (1, 1, 1, 1152)\n",
      "I0216 16:04:38.872292 140491729766272 efficientnet_model.py:414] Project shape: (1, 16, 16, 192)\n",
      "I0216 16:04:38.872952 140491729766272 efficientnet_model.py:374] Block blocks_15 input shape: (1, 16, 16, 192)\n",
      "I0216 16:04:38.908384 140491729766272 efficientnet_model.py:390] Expand shape: (1, 16, 16, 1152)\n",
      "I0216 16:04:38.937986 140491729766272 efficientnet_model.py:393] DWConv shape: (1, 16, 16, 1152)\n",
      "I0216 16:04:38.966049 140491729766272 efficientnet_model.py:195] Built SE se : (1, 1, 1, 1152)\n",
      "I0216 16:04:38.988711 140491729766272 efficientnet_model.py:414] Project shape: (1, 16, 16, 320)\n",
      "I0216 16:04:41.227864 140491729766272 det_model_fn.py:81] LR schedule method: cosine\n",
      "I0216 16:04:41.545002 140491729766272 postprocess.py:90] use max_nms_inputs for pre-nms topk.\n",
      "I0216 16:04:41.710454 140491729766272 det_model_fn.py:476] Eval val with groudtruths None.\n",
      "INFO:tensorflow:Done calling model_fn.\n",
      "I0216 16:04:41.756392 140491729766272 estimator.py:1175] Done calling model_fn.\n",
      "INFO:tensorflow:Starting evaluation at 2022-02-16T16:04:41\n",
      "I0216 16:04:41.779725 140491729766272 evaluation.py:251] Starting evaluation at 2022-02-16T16:04:41\n",
      "INFO:tensorflow:Graph was finalized.\n",
      "I0216 16:04:42.662616 140491729766272 monitored_session.py:243] Graph was finalized.\n",
      "2022-02-16 16:04:43.402391: W tensorflow/core/common_runtime/gpu/gpu_bfc_allocator.cc:39] Overriding allow_growth setting because the TF_FORCE_GPU_ALLOW_GROWTH environment variable is set. Original config value was 0.\n",
      "INFO:tensorflow:Restoring parameters from tmp_model_dir/efficientdet-d0_1-5-scratch-Trash/model.ckpt-10500\n",
      "I0216 16:04:43.403422 140491729766272 saver.py:1395] Restoring parameters from tmp_model_dir/efficientdet-d0_1-5-scratch-Trash/model.ckpt-10500\n",
      "INFO:tensorflow:Running local_init_op.\n",
      "I0216 16:04:44.694839 140491729766272 session_manager.py:527] Running local_init_op.\n",
      "INFO:tensorflow:Done running local_init_op.\n",
      "I0216 16:04:44.787956 140491729766272 session_manager.py:530] Done running local_init_op.\n",
      "creating index...\n",
      "index created!\n",
      "Loading and preparing results...\n",
      "Converting ndarray to lists...\n",
      "(30000, 7)\n",
      "0/30000\n",
      "DONE (t=0.24s)\n",
      "creating index...\n",
      "index created!\n",
      "Running per image evaluation...\n",
      "Evaluate annotation type *bbox*\n",
      "DONE (t=0.91s).\n",
      "Accumulating evaluation results...\n",
      "DONE (t=0.02s).\n",
      " Average Precision  (AP) @[ IoU=0.50:0.95 | area=   all | maxDets=100 ] = 0.064\n",
      " Average Precision  (AP) @[ IoU=0.50      | area=   all | maxDets=100 ] = 0.099\n",
      " Average Precision  (AP) @[ IoU=0.75      | area=   all | maxDets=100 ] = 0.076\n",
      " Average Precision  (AP) @[ IoU=0.50:0.95 | area= small | maxDets=100 ] = 0.000\n",
      " Average Precision  (AP) @[ IoU=0.50:0.95 | area=medium | maxDets=100 ] = 0.045\n",
      " Average Precision  (AP) @[ IoU=0.50:0.95 | area= large | maxDets=100 ] = 0.111\n",
      " Average Recall     (AR) @[ IoU=0.50:0.95 | area=   all | maxDets=  1 ] = 0.004\n",
      " Average Recall     (AR) @[ IoU=0.50:0.95 | area=   all | maxDets= 10 ] = 0.016\n",
      " Average Recall     (AR) @[ IoU=0.50:0.95 | area=   all | maxDets=100 ] = 0.102\n",
      " Average Recall     (AR) @[ IoU=0.50:0.95 | area= small | maxDets=100 ] = 0.000\n",
      " Average Recall     (AR) @[ IoU=0.50:0.95 | area=medium | maxDets=100 ] = 0.059\n",
      " Average Recall     (AR) @[ IoU=0.50:0.95 | area= large | maxDets=100 ] = 0.219\n",
      "INFO:tensorflow:Inference Time : 25.87996s\n",
      "I0216 16:05:07.660189 140491729766272 evaluation.py:269] Inference Time : 25.87996s\n",
      "INFO:tensorflow:Finished evaluation at 2022-02-16-16:05:07\n",
      "I0216 16:05:07.660432 140491729766272 evaluation.py:272] Finished evaluation at 2022-02-16-16:05:07\n",
      "INFO:tensorflow:Saving dict for global step 10500: AP = 0.063687906, AP50 = 0.09897215, AP75 = 0.075630754, APl = 0.1106934, APm = 0.045136817, APs = 0.0, ARl = 0.21920995, ARm = 0.059345726, ARmax1 = 0.0039693755, ARmax10 = 0.015963992, ARmax100 = 0.10230018, ARs = 0.0, box_loss = 0.0058017625, cls_loss = 0.47353536, global_step = 10500, loss = 1.3396969\n",
      "I0216 16:05:07.660587 140491729766272 estimator.py:2084] Saving dict for global step 10500: AP = 0.063687906, AP50 = 0.09897215, AP75 = 0.075630754, APl = 0.1106934, APm = 0.045136817, APs = 0.0, ARl = 0.21920995, ARm = 0.059345726, ARmax1 = 0.0039693755, ARmax10 = 0.015963992, ARmax100 = 0.10230018, ARs = 0.0, box_loss = 0.0058017625, cls_loss = 0.47353536, global_step = 10500, loss = 1.3396969\n",
      "INFO:tensorflow:Saving 'checkpoint_path' summary for global step 10500: tmp_model_dir/efficientdet-d0_1-5-scratch-Trash/model.ckpt-10500\n",
      "I0216 16:05:08.858845 140491729766272 estimator.py:2145] Saving 'checkpoint_path' summary for global step 10500: tmp_model_dir/efficientdet-d0_1-5-scratch-Trash/model.ckpt-10500\n",
      "I0216 16:05:08.861490 140491729766272 utils.py:445] Ckpt 0.06368790566921234 is worse than 0.560557\n",
      "Traceback (most recent call last):\n",
      "  File \"/usr/local/lib/python3.7/dist-packages/absl/app.py\", line 312, in run\n",
      "    _run_main(main, args)\n",
      "  File \"/usr/local/lib/python3.7/dist-packages/absl/app.py\", line 258, in _run_main\n",
      "    sys.exit(main(argv))\n",
      "  File \"main.py\", line 306, in main\n",
      "    timeout=FLAGS.eval_timeout):\n",
      "  File \"/usr/local/lib/python3.7/dist-packages/tensorflow/python/training/checkpoint_utils.py\", line 212, in checkpoints_iterator\n",
      "    time.sleep(time_to_next_eval)\n",
      "KeyboardInterrupt\n",
      "\n",
      "During handling of the above exception, another exception occurred:\n",
      "\n",
      "Traceback (most recent call last):\n",
      "  File \"main.py\", line 367, in <module>\n",
      "    app.run(main)\n",
      "  File \"/usr/local/lib/python3.7/dist-packages/absl/app.py\", line 312, in run\n",
      "    _run_main(main, args)\n",
      "KeyboardInterrupt\n"
     ]
    }
   ],
   "source": [
    "# image_size = 512x512 for d0, 640x640 for d1, 768x768 for d2 and 896x896 for d3.\n",
    "\n",
    "!python main.py --mode=eval  \\\n",
    "    --model_name={MODEL}  --model_dir='tmp_model_dir/efficientdet-d0_1-5-scratch-Trash'  \\\n",
    "    --val_file_pattern='tfrecord_val/TrashICRA19-train-5-of-19.tfrecord'  --hparams=\"num_classes=3,moving_average_decay=0,image_size=512x512,mixed_precision=true\"  "
   ]
  },
  {
   "cell_type": "markdown",
   "metadata": {
    "id": "NLmopF0LbSQx"
   },
   "source": [
    "REFERENCES\n",
    "\n",
    "[1] F. Zocco et al., Towards More Efficient EfficientDets and Low-Light Real-Time Marine Debris Detection, https://arxiv.org/pdf/2203.07155.pdf\n",
    "\n",
    "[2] https://github.com/google/automl/blob/master/efficientdet/tutorial.ipynb\n",
    "\n",
    "[3] https://openaccess.thecvf.com/content_CVPR_2020/papers/Tan_EfficientDet_Scalable_and_Efficient_Object_Detection_CVPR_2020_paper.pdf\n",
    "\n"
   ]
  }
 ],
 "metadata": {
  "accelerator": "GPU",
  "colab": {
   "name": "d0_1-5_Trash_eval.ipynb",
   "provenance": []
  },
  "kernelspec": {
   "display_name": "Python 3",
   "language": "python",
   "name": "python3"
  },
  "language_info": {
   "codemirror_mode": {
    "name": "ipython",
    "version": 3
   },
   "file_extension": ".py",
   "mimetype": "text/x-python",
   "name": "python",
   "nbconvert_exporter": "python",
   "pygments_lexer": "ipython3",
   "version": "3.7.9"
  }
 },
 "nbformat": 4,
 "nbformat_minor": 1
}
