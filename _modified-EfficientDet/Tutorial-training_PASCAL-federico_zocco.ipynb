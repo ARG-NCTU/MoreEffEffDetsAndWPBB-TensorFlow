{
 "cells": [
  {
   "cell_type": "markdown",
   "metadata": {
    "id": "1jBDe1295CJY"
   },
   "source": [
    "Before to begin if you are planning to train a model:\n",
    "\n",
    "(1) set the runtime with a TPU or GPU  \n",
    "\n",
    "(2) Make sure a folder tmp_model_dir is not in the working directory from a previous training "
   ]
  },
  {
   "cell_type": "code",
   "execution_count": null,
   "metadata": {
    "colab": {
     "base_uri": "https://localhost:8080/"
    },
    "id": "xFA7poG-88jK",
    "outputId": "f036ebb7-e797-46da-a553-96692afde468"
   },
   "outputs": [
    {
     "name": "stdout",
     "output_type": "stream",
     "text": [
      "Not connected to a GPU\n"
     ]
    }
   ],
   "source": [
    "#Print current hardware information (variable in Colab) \n",
    "\n",
    "gpu_info = !nvidia-smi\n",
    "gpu_info = '\\n'.join(gpu_info)\n",
    "if gpu_info.find('failed') >= 0:\n",
    "  print('Not connected to a GPU')\n",
    "else:\n",
    "  print(gpu_info)"
   ]
  },
  {
   "cell_type": "code",
   "execution_count": null,
   "metadata": {
    "id": "qL1nvR-8QJS6"
   },
   "outputs": [],
   "source": [
    "%%capture\n",
    "#@title\n",
    "import os\n",
    "import sys\n",
    "import tensorflow.compat.v1 as tf"
   ]
  },
  {
   "cell_type": "markdown",
   "metadata": {
    "id": "IspsBhcCp9h6"
   },
   "source": [
    "Read from my Google Drive"
   ]
  },
  {
   "cell_type": "code",
   "execution_count": null,
   "metadata": {
    "colab": {
     "base_uri": "https://localhost:8080/"
    },
    "id": "jlkN4_368tvu",
    "outputId": "4cefe9fd-c044-495c-85f8-9a5b65335e51"
   },
   "outputs": [
    {
     "name": "stdout",
     "output_type": "stream",
     "text": [
      "Mounted at /content/drive\n"
     ]
    }
   ],
   "source": [
    "from google.colab import drive\n",
    "drive.mount('/content/drive')"
   ]
  },
  {
   "cell_type": "markdown",
   "metadata": {
    "id": "NY4ymVII9JJv"
   },
   "source": [
    "Move to \"_modified-EfficientDet\" folder and install requirements"
   ]
  },
  {
   "cell_type": "code",
   "execution_count": null,
   "metadata": {
    "id": "yFJbk-nr8vqS"
   },
   "outputs": [],
   "source": [
    "os.chdir('drive/MyDrive/_modified-EfficientDet')\n",
    "sys.path.append('.')\n",
    "!pip install -r requirements.txt\n",
    "!pip install -U 'git+https://github.com/cocodataset/cocoapi.git#subdirectory=PythonAPI'"
   ]
  },
  {
   "cell_type": "code",
   "execution_count": null,
   "metadata": {
    "colab": {
     "base_uri": "https://localhost:8080/"
    },
    "id": "-A0FGxWW_Xj_",
    "outputId": "aabf7187-1362-41bf-b344-c61451a22d0e"
   },
   "outputs": [
    {
     "name": "stdout",
     "output_type": "stream",
     "text": [
      "--2021-11-08 13:16:18--  https://user-images.githubusercontent.com/11736571/77320690-099af300-6d37-11ea-9d86-24f14dc2d540.png\n",
      "Resolving user-images.githubusercontent.com (user-images.githubusercontent.com)... 185.199.108.133, 185.199.109.133, 185.199.110.133, ...\n",
      "Connecting to user-images.githubusercontent.com (user-images.githubusercontent.com)|185.199.108.133|:443... connected.\n",
      "HTTP request sent, awaiting response... 200 OK\n",
      "Length: 4080549 (3.9M) [image/png]\n",
      "Saving to: ‘img.png’\n",
      "\n",
      "img.png             100%[===================>]   3.89M  --.-KB/s    in 0.1s    \n",
      "\n",
      "2021-11-08 13:16:19 (32.3 MB/s) - ‘img.png’ saved [4080549/4080549]\n",
      "\n"
     ]
    }
   ],
   "source": [
    "MODEL = 'efficientdet-d1_1-5'  #@param\n",
    "\n",
    "\n",
    "# Prepare image and visualization settings.\n",
    "image_url =  'https://user-images.githubusercontent.com/11736571/77320690-099af300-6d37-11ea-9d86-24f14dc2d540.png'#@param\n",
    "image_name = 'img.png' #@param\n",
    "!wget {image_url} -O img.png\n",
    "import os\n",
    "img_path = os.path.join(os.getcwd(), 'img.png')\n",
    "\n",
    "min_score_thresh = 0.35  #@param\n",
    "max_boxes_to_draw = 200  #@param\n",
    "line_thickness =   2#@param\n",
    "\n",
    "import PIL\n",
    "# Get the largest of height/width and round to 128.\n",
    "image_size = max(PIL.Image.open(img_path).size)"
   ]
  },
  {
   "cell_type": "markdown",
   "metadata": {
    "id": "S8iBnul8i9Aq"
   },
   "source": [
    "Visualize model graph"
   ]
  },
  {
   "cell_type": "code",
   "execution_count": null,
   "metadata": {
    "id": "ufiERLoDi6IP"
   },
   "outputs": [],
   "source": [
    "!python model_inspect.py --model_name={MODEL} --logdir=logs &> /dev/null\n",
    "%load_ext tensorboard\n",
    "%tensorboard --logdir logs"
   ]
  },
  {
   "cell_type": "code",
   "execution_count": null,
   "metadata": {
    "id": "QpECtZsjAKQr"
   },
   "outputs": [],
   "source": [
    "# Get pascal voc 2012 trainval data\n",
    "import os\n",
    "if 'VOCdevkit' not in os.listdir():\n",
    "  !wget http://host.robots.ox.ac.uk/pascal/VOC/voc2012/VOCtrainval_11-May-2012.tar\n",
    "  !tar xf VOCtrainval_11-May-2012.tar\n",
    "\n",
    "  !mkdir tfrecord\n",
    "  !PYTHONPATH=\".:$PYTHONPATH\"  python dataset/create_pascal_tfrecord.py  \\\n",
    "    --data_dir=VOCdevkit --year=VOC2012  --output_path=tfrecord/pascal\n",
    "\n",
    "# Pascal has 5717 train images with 100 shards epoch, here we use a single shard\n",
    "# for demo, but users should use all shards pascal-*-of-00100.tfrecord.\n",
    "file_pattern = 'pascal-*-of-00100.tfrecord'  # @param\n",
    "images_per_epoch = 57 * len(tf.io.gfile.glob('tfrecord/' + file_pattern))\n",
    "images_per_epoch = images_per_epoch // 8 * 8  # round to 64.\n",
    "print('images_per_epoch = {}'.format(images_per_epoch))"
   ]
  },
  {
   "cell_type": "code",
   "execution_count": null,
   "metadata": {
    "id": "K5UyF8xwKDuL"
   },
   "outputs": [],
   "source": [
    "# Train efficientdet from scratch with backbone checkpoint.\n",
    "backbone_name = {\n",
    "    'efficientdet-d0': 'efficientnet-b0',\n",
    "    'efficientdet-d0_1-5': 'efficientnet-b0', #BiFPN with depth 1, box/class nets with depth 5\n",
    "    'efficientdet-d0_5-1': 'efficientnet-b0', #BiFPN with depth 5, box/class nets with depth 1\n",
    "    'efficientdet-d1': 'efficientnet-b1',\n",
    "    'efficientdet-d1_1-5': 'efficientnet-b1',\n",
    "    'efficientdet-d2': 'efficientnet-b2',\n",
    "    'efficientdet-d2_1-5': 'efficientnet-b2',\n",
    "    'efficientdet-d3': 'efficientnet-b3',\n",
    "    'efficientdet-d3_1-5': 'efficientnet-b3',\n",
    "    'efficientdet-d4': 'efficientnet-b4',\n",
    "    'efficientdet-d4_1-5': 'efficientnet-b4',\n",
    "    'efficientdet-d5': 'efficientnet-b5',\n",
    "    'efficientdet-d6': 'efficientnet-b6',\n",
    "    'efficientdet-d7': 'efficientnet-b6',\n",
    "}[MODEL]\n",
    "\n",
    "\n",
    "# generating train tfrecord is large, so we skip the execution here.\n",
    "import os\n",
    "if backbone_name not in os.listdir():\n",
    "  !wget https://storage.googleapis.com/cloud-tpu-checkpoints/efficientnet/ckptsaug/{backbone_name}.tar.gz\n",
    "  !tar xf {backbone_name}.tar.gz\n",
    "\n",
    "!mkdir tmp_model_dir\n",
    "# key option: use --backbone_ckpt rather than --ckpt.\n",
    "# Don't use ema since we only train a few steps.\n",
    "!python main.py --mode=train_and_eval \\\n",
    "    --train_file_pattern=tfrecord/{file_pattern} \\\n",
    "    --val_file_pattern=tfrecord/{file_pattern} \\\n",
    "    --model_name={MODEL} \\\n",
    "    --model_dir=tmp_model_dir/{MODEL}-scratch-Pascal  \\\n",
    "    --backbone_ckpt={backbone_name} \\\n",
    "    --train_batch_size=4 \\\n",
    "    --eval_batch_size=4 --eval_samples={images_per_epoch}  \\\n",
    "    --num_examples_per_epoch={images_per_epoch}  --num_epochs=1  \\\n",
    "    --hparams=\"num_classes=20,moving_average_decay=0,mixed_precision=true\""
   ]
  },
  {
   "cell_type": "markdown",
   "metadata": {
    "id": "n0lUxpFYdUB-"
   },
   "source": [
    "Visualize the performance and training records"
   ]
  },
  {
   "cell_type": "code",
   "execution_count": null,
   "metadata": {
    "id": "_jW5AjDQQiJv"
   },
   "outputs": [],
   "source": [
    "%load_ext tensorboard\n",
    "%tensorboard --logdir tmp_model_dir"
   ]
  },
  {
   "cell_type": "markdown",
   "metadata": {
    "id": "Ka6_R4zqZD_k"
   },
   "source": [
    "Evaluate the network latency, i.e. from first convolution to box/class predictions"
   ]
  },
  {
   "cell_type": "code",
   "execution_count": null,
   "metadata": {
    "id": "p7qA8Rx_aCcd"
   },
   "outputs": [],
   "source": [
    "print(MODEL)\n",
    "!python model_inspect.py --runmode=bm --model_name={MODEL} --hparams=\"mixed_precision=true\""
   ]
  },
  {
   "cell_type": "markdown",
   "metadata": {
    "id": "NLmopF0LbSQx"
   },
   "source": [
    "REFERENCES\n",
    "\n",
    "[1] F. Zocco et al., Towards More Efficient EfficientDets and Low-Light Real-Time Marine Debris Detection, https://arxiv.org/pdf/2203.07155.pdf\n",
    "\n",
    "[2] https://github.com/google/automl/blob/master/efficientdet/tutorial.ipynb\n",
    "\n",
    "[3] https://openaccess.thecvf.com/content_CVPR_2020/papers/Tan_EfficientDet_Scalable_and_Efficient_Object_Detection_CVPR_2020_paper.pdf\n",
    "\n"
   ]
  }
 ],
 "metadata": {
  "accelerator": "GPU",
  "colab": {
   "name": "tutorial_federico_zocco.ipynb",
   "provenance": []
  },
  "kernelspec": {
   "display_name": "Python 3",
   "language": "python",
   "name": "python3"
  },
  "language_info": {
   "codemirror_mode": {
    "name": "ipython",
    "version": 3
   },
   "file_extension": ".py",
   "mimetype": "text/x-python",
   "name": "python",
   "nbconvert_exporter": "python",
   "pygments_lexer": "ipython3",
   "version": "3.7.9"
  }
 },
 "nbformat": 4,
 "nbformat_minor": 1
}
